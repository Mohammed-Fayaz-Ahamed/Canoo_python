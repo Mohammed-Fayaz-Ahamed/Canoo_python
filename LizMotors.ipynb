{
  "nbformat": 4,
  "nbformat_minor": 0,
  "metadata": {
    "colab": {
      "provenance": [],
      "authorship_tag": "ABX9TyO1embycCFHSSua84ndyUky",
      "include_colab_link": true
    },
    "kernelspec": {
      "name": "python3",
      "display_name": "Python 3"
    },
    "language_info": {
      "name": "python"
    }
  },
  "cells": [
    {
      "cell_type": "markdown",
      "metadata": {
        "id": "view-in-github",
        "colab_type": "text"
      },
      "source": [
        "<a href=\"https://colab.research.google.com/github/Mohammed-Fayaz-Ahamed/Canoo_python/blob/main/LizMotors.ipynb\" target=\"_parent\"><img src=\"https://colab.research.google.com/assets/colab-badge.svg\" alt=\"Open In Colab\"/></a>"
      ]
    },
    {
      "cell_type": "code",
      "execution_count": 46,
      "metadata": {
        "id": "yWpVDgJ8hS0G"
      },
      "outputs": [],
      "source": [
        "from bs4 import BeautifulSoup\n",
        "import requests\n",
        "import pandas as pd"
      ]
    },
    {
      "cell_type": "code",
      "source": [
        "Canoo_url = 'https://incfact.com/company/canootechnologies-torrance-ca/'\n",
        "response = requests.get(Canoo_url)\n",
        "soup = BeautifulSoup(response.text, \"html.parser\")\n",
        "table = soup.find('table', class_ = \"table\")\n",
        "header = table.find_all('th')\n",
        "titles = []\n",
        "for i in header:\n",
        "  title = i.text\n",
        "  titles.append(title)\n",
        "df = pd.DataFrame(columns = titles)\n",
        "rows = table.findAll('tr')\n",
        "for i in rows[1:]:\n",
        "  data = i.findAll('td')\n",
        "  # Check if the number of items in row matches the number of columns in titles\n",
        "  if len(data) == len(titles):\n",
        "    row = [tr.text for tr in data]\n",
        "    df.loc[len(df)] = row"
      ],
      "metadata": {
        "id": "SbdsS4LuadAp"
      },
      "execution_count": 114,
      "outputs": []
    },
    {
      "cell_type": "code",
      "source": [
        "Compitetors_url ='https://www.marketbeat.com/stocks/NYSE/GOEV/competitors-and-alternatives/'\n",
        "\n",
        "response = requests.get(Compitetors_url)\n",
        "soup = BeautifulSoup(response.text, \"lxml\")\n",
        "table = soup.find('table', class_ = \"scroll-table sort-table\")\n",
        "\n",
        "header = table.find('tr')\n",
        "titles = []\n",
        "for i in header:\n",
        "  title = i.text\n",
        "  titles.append(title)\n",
        "df = pd.DataFrame(columns = titles)\n",
        "rows = table.findAll('tr')\n",
        "for i in rows[1:]:\n",
        "  data = i.findAll('td')\n",
        "  row = [tr.text for tr in data]\n",
        "  df.loc[len(df)] = row\n",
        "\n",
        "df.to_csv('Compitetors_data.csv')"
      ],
      "metadata": {
        "id": "-10SoEyiI0dd"
      },
      "execution_count": 70,
      "outputs": []
    },
    {
      "cell_type": "code",
      "source": [
        "finance_url = \"https://stockanalysis.com/stocks/goev/financials/\"\n",
        "\n",
        "response = requests.get(finance_url)\n",
        "soup = BeautifulSoup(response.text, \"lxml\")\n",
        "table = soup.find('table', class_ = 'w-full border-separate border-spacing-0 whitespace-nowrap')\n",
        "\n",
        "header = table.find('tr')\n",
        "titles = []\n",
        "for i in header:\n",
        "  if i != ' ':\n",
        "    title = i.text\n",
        "    titles.append(title)\n",
        "\n",
        "df = pd.DataFrame(columns = titles)\n",
        "df = df.rename(columns = {'Year':'Finance'})\n",
        "\n",
        "rows = table.findAll('tr')\n",
        "for i in rows[1:]:\n",
        "  data = i.findAll('td')\n",
        "  row = [tr.text for tr in data]\n",
        "  df.loc[len(df)] = row\n",
        "\n",
        "if '2018' not in df.index:\n",
        "    df.loc['2018'] = [0] * len(df.columns)\n",
        "df.to_csv('Finance_data.csv')"
      ],
      "metadata": {
        "id": "3URlFmuOzQVe"
      },
      "execution_count": 42,
      "outputs": []
    },
    {
      "cell_type": "code",
      "source": [],
      "metadata": {
        "id": "UERK3piU6H3t"
      },
      "execution_count": 41,
      "outputs": []
    }
  ]
}